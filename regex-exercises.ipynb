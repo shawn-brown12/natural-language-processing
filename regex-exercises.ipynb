{
 "cells": [
  {
   "cell_type": "markdown",
   "id": "0998a327",
   "metadata": {},
   "source": [
    "# Regex Exercises"
   ]
  },
  {
   "cell_type": "code",
   "execution_count": 2,
   "id": "e65c4530",
   "metadata": {},
   "outputs": [],
   "source": [
    "import pandas as pd\n",
    "import numpy as np\n",
    "import matplotlib.pyplot as plt\n",
    "import seaborn as sns\n",
    "\n",
    "import re"
   ]
  },
  {
   "cell_type": "markdown",
   "id": "bd0f6c6c",
   "metadata": {},
   "source": [
    "Write a function named is_vowel. It should accept a string as input and use a regular expression to determine if the passed string is a vowel. While not explicity mentioned in the lesson, you can treat the result of re.search as a boolean value that indicates whether or not the regular expression matches the given string.\n",
    "\n"
   ]
  },
  {
   "cell_type": "code",
   "execution_count": 51,
   "id": "a26d1a87",
   "metadata": {},
   "outputs": [],
   "source": [
    "def is_vowel(string):\n",
    "    \n",
    "    if re.search(r'[aeiou]', string) == None:\n",
    "        \n",
    "        print('Not Vowel')\n",
    "        \n",
    "    else:\n",
    "        \n",
    "        print('Vowel')\n",
    "    "
   ]
  },
  {
   "cell_type": "code",
   "execution_count": 52,
   "id": "ad4c3dec",
   "metadata": {},
   "outputs": [
    {
     "name": "stdout",
     "output_type": "stream",
     "text": [
      "Vowel\n"
     ]
    }
   ],
   "source": [
    "string = 'a'\n",
    "\n",
    "is_vowel(string)"
   ]
  },
  {
   "cell_type": "code",
   "execution_count": 53,
   "id": "2371a9ee",
   "metadata": {},
   "outputs": [
    {
     "name": "stdout",
     "output_type": "stream",
     "text": [
      "Not Vowel\n"
     ]
    }
   ],
   "source": [
    "string = 'sdg'\n",
    "\n",
    "is_vowel(string)"
   ]
  },
  {
   "cell_type": "markdown",
   "id": "9b82839b",
   "metadata": {},
   "source": [
    "Write a function named is_valid_username that accepts a string as input. A valid username starts with a lowercase letter, and only consists of lowercase letters, numbers, or the _ character. It should also be no longer than 32 characters. The function should return either True or False depending on whether the passed string is a valid username.\n",
    "\n"
   ]
  },
  {
   "cell_type": "code",
   "execution_count": 62,
   "id": "4e3e3145",
   "metadata": {},
   "outputs": [],
   "source": [
    "def is_valid_username(string):\n",
    "    \n",
    "    if re.search(r\"^[a-z][0-9a-z_]{1,31}\", string) == None:\n",
    "        \n",
    "        print('Invalid username')\n",
    "        \n",
    "    else:\n",
    "        \n",
    "        print('Valid username')"
   ]
  },
  {
   "cell_type": "code",
   "execution_count": 56,
   "id": "385bb709",
   "metadata": {},
   "outputs": [
    {
     "data": {
      "text/plain": [
       "<re.Match object; span=(0, 11), match='shawn_brown'>"
      ]
     },
     "execution_count": 56,
     "metadata": {},
     "output_type": "execute_result"
    }
   ],
   "source": [
    "re.search(r\"^[a-z][0-9a-z_]{1,31}\", string)"
   ]
  },
  {
   "cell_type": "code",
   "execution_count": 57,
   "id": "0911ce41",
   "metadata": {},
   "outputs": [
    {
     "name": "stdout",
     "output_type": "stream",
     "text": [
      "Valid username\n"
     ]
    }
   ],
   "source": [
    "string = 'shawn_brown'\n",
    "\n",
    "is_valid_username(string)"
   ]
  },
  {
   "cell_type": "code",
   "execution_count": 63,
   "id": "805daf61",
   "metadata": {},
   "outputs": [
    {
     "name": "stdout",
     "output_type": "stream",
     "text": [
      "Invalid username\n"
     ]
    }
   ],
   "source": [
    "string = 'Limga'\n",
    "\n",
    "is_valid_username(string)"
   ]
  },
  {
   "cell_type": "markdown",
   "id": "5ac6f55b",
   "metadata": {},
   "source": [
    "Write a regular expression to capture phone numbers. It should match all of the following:\n",
    "\n",
    "```python\n",
    "(210) 867 5309\n",
    "+1 210.867.5309\n",
    "867-5309\n",
    "210-867-5309\n",
    "```"
   ]
  },
  {
   "cell_type": "code",
   "execution_count": 86,
   "id": "4551f5de",
   "metadata": {},
   "outputs": [
    {
     "data": {
      "text/plain": [
       "<re.Match object; span=(0, 14), match='(210) 867 5309'>"
      ]
     },
     "execution_count": 86,
     "metadata": {},
     "output_type": "execute_result"
    }
   ],
   "source": [
    "string1 = '(210) 867 5309'\n",
    "string2 = '+1 210.867.5309'\n",
    "string3 = '867-5309'\n",
    "string4 = '210-867-5309'\n",
    "\n",
    "re.search(r'^(\\+?)(\\d?)-?.?\\s?(\\d{3})?-?.?\\s?(\\d{3})-?.?\\s?(\\d{4})', string1)"
   ]
  },
  {
   "cell_type": "code",
   "execution_count": 87,
   "id": "8358209b",
   "metadata": {},
   "outputs": [
    {
     "data": {
      "text/plain": [
       "<re.Match object; span=(0, 15), match='+1 210.867.5309'>"
      ]
     },
     "execution_count": 87,
     "metadata": {},
     "output_type": "execute_result"
    }
   ],
   "source": [
    "re.search(r'^(\\+?)(\\d?)-?.?\\s?(\\d{3})?-?.?\\s?(\\d{3})-?.?\\s?(\\d{4})', string2)"
   ]
  },
  {
   "cell_type": "code",
   "execution_count": 85,
   "id": "bdf7023a",
   "metadata": {},
   "outputs": [
    {
     "data": {
      "text/plain": [
       "<re.Match object; span=(0, 8), match='867-5309'>"
      ]
     },
     "execution_count": 85,
     "metadata": {},
     "output_type": "execute_result"
    }
   ],
   "source": [
    "re.search(r'^(\\+?)(\\d?)-?.?\\s?(\\d{3})?-?.?\\s?(\\d{3})-?.?\\s?(\\d{4})', string3)"
   ]
  },
  {
   "cell_type": "code",
   "execution_count": 88,
   "id": "a0ba89c6",
   "metadata": {},
   "outputs": [
    {
     "data": {
      "text/plain": [
       "<re.Match object; span=(0, 12), match='210-867-5309'>"
      ]
     },
     "execution_count": 88,
     "metadata": {},
     "output_type": "execute_result"
    }
   ],
   "source": [
    "re.search(r'^(\\+?)(\\d?)-?.?\\s?(\\d{3})?-?.?\\s?(\\d{3})-?.?\\s?(\\d{4})', string4)"
   ]
  },
  {
   "cell_type": "code",
   "execution_count": 89,
   "id": "5a57a650",
   "metadata": {},
   "outputs": [],
   "source": [
    "def is_phone_number(string):\n",
    "    \n",
    "    if re.search(r'^(\\+?)(\\d?)-?.?\\s?(\\d{3})?-?.?\\s?(\\d{3})-?.?\\s?(\\d{4})', string) == None:\n",
    "        \n",
    "        print ('Invalid phone number')\n",
    "        \n",
    "    else:\n",
    "        \n",
    "        print ('Valid phone number')"
   ]
  },
  {
   "cell_type": "markdown",
   "id": "aeeb3256",
   "metadata": {},
   "source": [
    "Use regular expressions to convert the dates below to the standardized year-month-day format.\n",
    "\n",
    "```python\n",
    "02/04/19\n",
    "02/05/19\n",
    "02/06/19\n",
    "02/07/19\n",
    "02/08/19\n",
    "02/09/19\n",
    "02/10/19\n",
    "```"
   ]
  },
  {
   "cell_type": "code",
   "execution_count": 101,
   "id": "c492f8f9",
   "metadata": {},
   "outputs": [
    {
     "name": "stdout",
     "output_type": "stream",
     "text": [
      "\n",
      "        19/02/04,\n",
      "        19/02/05,\n",
      "        19/02/06,\n",
      "        19/02/07,\n",
      "        19/02/08,\n",
      "        19/02/09,\n",
      "        19/02/10\n",
      "        \n"
     ]
    }
   ],
   "source": [
    "dates = '''\n",
    "        02/04/19,\n",
    "        02/05/19,\n",
    "        02/06/19,\n",
    "        02/07/19,\n",
    "        02/08/19,\n",
    "        02/09/19,\n",
    "        02/10/19\n",
    "        '''\n",
    "    \n",
    "print(re.sub(r'(\\d{2})/(\\d{2})/(\\d{2})', r'\\3/\\1/\\2', dates))"
   ]
  },
  {
   "cell_type": "markdown",
   "id": "e2112274",
   "metadata": {},
   "source": [
    "Write a regex to extract the various parts of these logfile lines:\n",
    "\n",
    "```python\n",
    "GET /api/v1/sales?page=86 [16/Apr/2019:193452+0000] HTTP/1.1 {200} 510348 \"python-requests/2.21.0\" 97.105.19.58\n",
    "POST /users_accounts/file-upload [16/Apr/2019:193452+0000] HTTP/1.1 {201} 42 \"User-Agent: Mozilla/5.0 (X11; Fedora; Fedora; Linux x86_64) AppleWebKit/537.36 (KHTML, like Gecko) Chrome/73.0.3683.86 Safari/537.36\" 97.105.19.58\n",
    "GET /api/v1/items?page=3 [16/Apr/2019:193453+0000] HTTP/1.1 {429} 3561 \"python-requests/2.21.0\" 97.105.19.58\n",
    "```"
   ]
  },
  {
   "cell_type": "code",
   "execution_count": 102,
   "id": "86dec8ba",
   "metadata": {},
   "outputs": [],
   "source": [
    "logs = '''\n",
    "       GET /api/v1/sales?page=86 [16/Apr/2019:193452+0000] HTTP/1.1 {200} 510348 \"python-requests/2.21.0\" 97.105.19.58\n",
    "       POST /users_accounts/file-upload [16/Apr/2019:193452+0000] HTTP/1.1 {201} 42 \"User-Agent: Mozilla/5.0 (X11; Fedora; Fedora; Linux x86_64) AppleWebKit/537.36 (KHTML, like Gecko) Chrome/73.0.3683.86 Safari/537.36\" 97.105.19.58\n",
    "       GET /api/v1/items?page=3 [16/Apr/2019:193453+0000] HTTP/1.1 {429} 3561 \"python-requests/2.21.0\" 97.105.19.58\n",
    "       '''"
   ]
  },
  {
   "cell_type": "code",
   "execution_count": 136,
   "id": "cbd8c909",
   "metadata": {},
   "outputs": [],
   "source": [
    "pattern = re.compile(r'''\n",
    "           (?P<log_type>[A-Z]{3,4})\n",
    "           .*\n",
    "           (?P<date>\\d{2}/\\w{1,6}/\\d{4})\n",
    "           .*\n",
    "           (?P<protocol>[A-Z]{4,5})\n",
    "           ''', re.VERBOSE)\n",
    "\n",
    "match = re.search(pattern, logs)"
   ]
  },
  {
   "cell_type": "code",
   "execution_count": 137,
   "id": "903d88c9",
   "metadata": {},
   "outputs": [
    {
     "data": {
      "text/plain": [
       "<re.Match object; span=(8, 64), match='GET /api/v1/sales?page=86 [16/Apr/2019:193452+000>"
      ]
     },
     "execution_count": 137,
     "metadata": {},
     "output_type": "execute_result"
    }
   ],
   "source": [
    "match"
   ]
  },
  {
   "cell_type": "code",
   "execution_count": 138,
   "id": "9d0d99d8",
   "metadata": {},
   "outputs": [
    {
     "data": {
      "text/plain": [
       "('GET', '16/Apr/2019', 'HTTP')"
      ]
     },
     "execution_count": 138,
     "metadata": {},
     "output_type": "execute_result"
    }
   ],
   "source": [
    "match.groups()"
   ]
  },
  {
   "cell_type": "code",
   "execution_count": 141,
   "id": "c8dc18e0",
   "metadata": {},
   "outputs": [
    {
     "data": {
      "text/plain": [
       "{'log_type': 'GET', 'date': '16/Apr/2019', 'protocol': 'HTTP'}"
      ]
     },
     "execution_count": 141,
     "metadata": {},
     "output_type": "execute_result"
    }
   ],
   "source": [
    "re.search(pattern, logs).groupdict()"
   ]
  },
  {
   "cell_type": "code",
   "execution_count": 145,
   "id": "d18f0835",
   "metadata": {},
   "outputs": [
    {
     "data": {
      "text/plain": [
       "'GET'"
      ]
     },
     "execution_count": 145,
     "metadata": {},
     "output_type": "execute_result"
    }
   ],
   "source": [
    "match.group('log_type')"
   ]
  },
  {
   "cell_type": "code",
   "execution_count": 119,
   "id": "04dda4a5",
   "metadata": {},
   "outputs": [
    {
     "data": {
      "text/plain": [
       "<re.Match object; span=(8, 11), match='GET'>"
      ]
     },
     "execution_count": 119,
     "metadata": {},
     "output_type": "execute_result"
    }
   ],
   "source": [
    "re.search(r'(?P<log_type>[A-Z]{3,4})', logs)"
   ]
  },
  {
   "cell_type": "code",
   "execution_count": 123,
   "id": "dce89b9a",
   "metadata": {},
   "outputs": [
    {
     "data": {
      "text/plain": [
       "<re.Match object; span=(35, 46), match='16/Apr/2019'>"
      ]
     },
     "execution_count": 123,
     "metadata": {},
     "output_type": "execute_result"
    }
   ],
   "source": [
    "re.search(r'(?P<date>\\d{2}/\\w{1,6}/\\d{4})', logs)"
   ]
  },
  {
   "cell_type": "code",
   "execution_count": 124,
   "id": "e2dc8908",
   "metadata": {},
   "outputs": [
    {
     "data": {
      "text/plain": [
       "<re.Match object; span=(60, 64), match='HTTP'>"
      ]
     },
     "execution_count": 124,
     "metadata": {},
     "output_type": "execute_result"
    }
   ],
   "source": [
    "re.search(r'(?P<protocol>[A-Z]{4,5})', logs)"
   ]
  },
  {
   "cell_type": "code",
   "execution_count": null,
   "id": "068ac57a",
   "metadata": {},
   "outputs": [],
   "source": []
  }
 ],
 "metadata": {
  "kernelspec": {
   "display_name": "Python 3 (ipykernel)",
   "language": "python",
   "name": "python3"
  },
  "language_info": {
   "codemirror_mode": {
    "name": "ipython",
    "version": 3
   },
   "file_extension": ".py",
   "mimetype": "text/x-python",
   "name": "python",
   "nbconvert_exporter": "python",
   "pygments_lexer": "ipython3",
   "version": "3.9.15"
  },
  "toc": {
   "base_numbering": 1,
   "nav_menu": {},
   "number_sections": true,
   "sideBar": true,
   "skip_h1_title": false,
   "title_cell": "Table of Contents",
   "title_sidebar": "Contents",
   "toc_cell": false,
   "toc_position": {},
   "toc_section_display": true,
   "toc_window_display": false
  }
 },
 "nbformat": 4,
 "nbformat_minor": 5
}
